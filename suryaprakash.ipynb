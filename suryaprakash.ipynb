{
  "nbformat": 4,
  "nbformat_minor": 0,
  "metadata": {
    "colab": {
      "provenance": [],
      "authorship_tag": "ABX9TyNSBc7Rfcxuu3QKRbzIcfTF",
      "include_colab_link": true
    },
    "kernelspec": {
      "name": "python3",
      "display_name": "Python 3"
    },
    "language_info": {
      "name": "python"
    }
  },
  "cells": [
    {
      "cell_type": "markdown",
      "metadata": {
        "id": "view-in-github",
        "colab_type": "text"
      },
      "source": [
        "<a href=\"https://colab.research.google.com/github/SuryaPrakashBolloju/SuryaPrakashBolloju/blob/main/suryaprakash.ipynb\" target=\"_parent\"><img src=\"https://colab.research.google.com/assets/colab-badge.svg\" alt=\"Open In Colab\"/></a>"
      ]
    },
    {
      "cell_type": "code",
      "execution_count": null,
      "metadata": {
        "colab": {
          "base_uri": "https://localhost:8080/"
        },
        "id": "MgUPgHAIAUkP",
        "outputId": "9ee72fac-536c-4652-fc8b-58f383812d92"
      },
      "outputs": [
        {
          "output_type": "stream",
          "name": "stdout",
          "text": [
            "[2 5 8]\n"
          ]
        }
      ],
      "source": [
        "#Given a 2D array arr, extract the second column.\n",
        "import numpy as np\n",
        "arr = np.array([[1, 2, 3],\n",
        "                [4, 5, 6],\n",
        "                [7, 8, 9]])\n",
        "print(arr[:, 1])"
      ]
    },
    {
      "cell_type": "code",
      "source": [
        "#Extract a subarray from a 3x3 matrix that includes the first and second rows and the second and third columns.\n",
        "import numpy as np\n",
        "matrix = np.array([[1, 2, 3],\n",
        "                   [4, 5, 6],\n",
        "                   [7, 8, 9]])\n",
        "subarray = matrix[:2, 1:]\n",
        "print(subarray)"
      ],
      "metadata": {
        "colab": {
          "base_uri": "https://localhost:8080/"
        },
        "id": "O0u6soDoApnT",
        "outputId": "d9bfb768-8369-484d-e0a2-1e7cc26e3831"
      },
      "execution_count": null,
      "outputs": [
        {
          "output_type": "stream",
          "name": "stdout",
          "text": [
            "[[2 3]\n",
            " [5 6]]\n"
          ]
        }
      ]
    },
    {
      "cell_type": "code",
      "source": [
        "#Given a 3D array, transpose the first and second dimensions.\n",
        "import numpy as np\n",
        "array_3d = np.array([[[1, 2, 3], [4, 5, 6]],\n",
        "                     [[7, 8, 9], [10, 11, 12]],\n",
        "                     [[13, 14, 15], [16, 17, 18]]])\n",
        "transposed_array = array_3d.T\n",
        "print(transposed_array)"
      ],
      "metadata": {
        "colab": {
          "base_uri": "https://localhost:8080/"
        },
        "id": "qSNZe143BoVS",
        "outputId": "692741c6-7fd5-4449-c605-7d7cb201615c"
      },
      "execution_count": null,
      "outputs": [
        {
          "output_type": "stream",
          "name": "stdout",
          "text": [
            "[[[ 1  7 13]\n",
            "  [ 4 10 16]]\n",
            "\n",
            " [[ 2  8 14]\n",
            "  [ 5 11 17]]\n",
            "\n",
            " [[ 3  9 15]\n",
            "  [ 6 12 18]]]\n"
          ]
        }
      ]
    },
    {
      "cell_type": "code",
      "source": [
        "# Transpose a 2D array and then extract a specific row from the transposed result\n",
        "\n",
        "import numpy as np\n",
        "array_2d = np.array([[1, 2, 3],\n",
        "                     [4, 5, 6],\n",
        "                     [7, 8, 9]])\n",
        "transposed_array = array_2d.T\n",
        "row_index = 1\n",
        "extracted_row = transposed_array[row_index]\n",
        "print(\"Original 2D Array:\")\n",
        "print(array_2d)\n",
        "print(\"\\nTransposed 2D Array:\")\n",
        "print(transposed_array)\n",
        "print(\"\\nExtracted Row from Transposed Array (Index {}):\".format(row_index))\n",
        "print(extracted_row)"
      ],
      "metadata": {
        "colab": {
          "base_uri": "https://localhost:8080/"
        },
        "id": "GsBblMBUCx92",
        "outputId": "1d2db4ce-ab2a-4e9a-82ce-b92c31b10fe3"
      },
      "execution_count": null,
      "outputs": [
        {
          "output_type": "stream",
          "name": "stdout",
          "text": [
            "Original 2D Array:\n",
            "[[1 2 3]\n",
            " [4 5 6]\n",
            " [7 8 9]]\n",
            "\n",
            "Transposed 2D Array:\n",
            "[[1 4 7]\n",
            " [2 5 8]\n",
            " [3 6 9]]\n",
            "\n",
            "Extracted Row from Transposed Array (Index 1):\n",
            "[2 5 8]\n"
          ]
        }
      ]
    },
    {
      "cell_type": "code",
      "source": [
        "# Given a 3D array, extract a 2x2 matrix from the second \"layer\" (2D array) using appropriate indexing.\n",
        "import numpy as np\n",
        "arr = np.array([[[1, 2, 3],\n",
        "                 [4, 5, 6]],\n",
        "                 [[7, 8, 9],\n",
        "                 [10, 11, 12]],\n",
        "                 [[13, 14, 15],\n",
        "                 [16, 17, 18]]])\n",
        "extracted_matrix = arr[1, :2, :2]\n",
        "\n",
        "print(\"Original 3D Array:\")\n",
        "print(arr)\n",
        "print(\"\\nExtracted 2x2 Matrix from the Second Layer :\")\n",
        "print(extracted_matrix)"
      ],
      "metadata": {
        "colab": {
          "base_uri": "https://localhost:8080/"
        },
        "id": "OqaH9ZHOEfWH",
        "outputId": "347d79d9-6251-4d2e-ce83-1748880586e3"
      },
      "execution_count": null,
      "outputs": [
        {
          "output_type": "stream",
          "name": "stdout",
          "text": [
            "Original 3D Array:\n",
            "[[[ 1  2  3]\n",
            "  [ 4  5  6]]\n",
            "\n",
            " [[ 7  8  9]\n",
            "  [10 11 12]]\n",
            "\n",
            " [[13 14 15]\n",
            "  [16 17 18]]]\n",
            "\n",
            "Extracted 2x2 Matrix from the Second Layer :\n",
            "[[ 7  8]\n",
            " [10 11]]\n"
          ]
        }
      ]
    }
  ]
}